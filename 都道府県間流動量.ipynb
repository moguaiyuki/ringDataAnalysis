{
 "cells": [
  {
   "cell_type": "markdown",
   "metadata": {},
   "source": [
    " # 都道府県間流動量（トラック計）\n"
   ]
  },
  {
   "cell_type": "markdown",
   "metadata": {},
   "source": [
    "- 荷主: 商流が上の企業\n",
    "  - 課題: コスト\n",
    "- 運び手: 中小の物流企業（トラック数台持ち）\n",
    "  - 課題: 戻り荷案件がない？？（ここの検証はできてない?）"
   ]
  },
  {
   "cell_type": "markdown",
   "metadata": {},
   "source": [
    "### インタビューでは「東京への荷物は多いが，東京から他への荷物は少ない」とあったが，それは本当か"
   ]
  },
  {
   "cell_type": "markdown",
   "metadata": {},
   "source": [
    "### to:東京とfrom:東京の物流量を比較する\n",
    "\n",
    "**本当だった場合**\n",
    "\n",
    "例えば 岡山=>東京はめちゃめちゃ多い\n",
    "東京=>岡山は少ない\n",
    "状況で，東京=>大阪までの戻り荷に空きがあり，かつ大阪=>岡山の戻り荷の空きがあればいけるのでは\n",
    "\n",
    "**うそだった場合(誤認識)**\n",
    "\n",
    "ユーザも気付いていなかっただけで実は，二つの都道府県間の物量は変わらず，うまく最適化すれば戻り荷物もいけた"
   ]
  },
  {
   "cell_type": "markdown",
   "metadata": {},
   "source": [
    "## 基本データ"
   ]
  },
  {
   "cell_type": "code",
   "execution_count": 1,
   "metadata": {
    "collapsed": false
   },
   "outputs": [],
   "source": [
    "import pandas as pd\n",
    "import numpy as np\n",
    "%matplotlib inline"
   ]
  },
  {
   "cell_type": "code",
   "execution_count": 2,
   "metadata": {
    "collapsed": false
   },
   "outputs": [],
   "source": [
    "df = pd.read_csv('all_track.tsv', sep='\\t',  index_col=0)\n",
    "df = df.fillna(0)\n",
    "df = df.astype(int)"
   ]
  },
  {
   "cell_type": "code",
   "execution_count": 3,
   "metadata": {
    "collapsed": false
   },
   "outputs": [
    {
     "data": {
      "text/html": [
       "<div>\n",
       "<table border=\"1\" class=\"dataframe\">\n",
       "  <thead>\n",
       "    <tr style=\"text-align: right;\">\n",
       "      <th></th>\n",
       "      <th>北海道</th>\n",
       "      <th>青森</th>\n",
       "      <th>岩手</th>\n",
       "      <th>宮城</th>\n",
       "      <th>秋田</th>\n",
       "      <th>山形</th>\n",
       "      <th>福島</th>\n",
       "      <th>茨城</th>\n",
       "      <th>栃木</th>\n",
       "      <th>群馬</th>\n",
       "      <th>...</th>\n",
       "      <th>愛媛</th>\n",
       "      <th>高知</th>\n",
       "      <th>福岡</th>\n",
       "      <th>佐賀</th>\n",
       "      <th>長崎</th>\n",
       "      <th>熊本</th>\n",
       "      <th>大分</th>\n",
       "      <th>宮崎</th>\n",
       "      <th>鹿児島</th>\n",
       "      <th>沖縄</th>\n",
       "    </tr>\n",
       "  </thead>\n",
       "  <tbody>\n",
       "    <tr>\n",
       "      <th>北海道</th>\n",
       "      <td>602116</td>\n",
       "      <td>2070</td>\n",
       "      <td>263</td>\n",
       "      <td>1787</td>\n",
       "      <td>274</td>\n",
       "      <td>645</td>\n",
       "      <td>371</td>\n",
       "      <td>2969</td>\n",
       "      <td>629</td>\n",
       "      <td>2035</td>\n",
       "      <td>...</td>\n",
       "      <td>49</td>\n",
       "      <td>110</td>\n",
       "      <td>969</td>\n",
       "      <td>82</td>\n",
       "      <td>0</td>\n",
       "      <td>3</td>\n",
       "      <td>0</td>\n",
       "      <td>2</td>\n",
       "      <td>5</td>\n",
       "      <td>0</td>\n",
       "    </tr>\n",
       "    <tr>\n",
       "      <th>青森</th>\n",
       "      <td>1185</td>\n",
       "      <td>223794</td>\n",
       "      <td>8268</td>\n",
       "      <td>2661</td>\n",
       "      <td>2846</td>\n",
       "      <td>333</td>\n",
       "      <td>5606</td>\n",
       "      <td>769</td>\n",
       "      <td>384</td>\n",
       "      <td>1046</td>\n",
       "      <td>...</td>\n",
       "      <td>10</td>\n",
       "      <td>0</td>\n",
       "      <td>75</td>\n",
       "      <td>0</td>\n",
       "      <td>68</td>\n",
       "      <td>133</td>\n",
       "      <td>2</td>\n",
       "      <td>116</td>\n",
       "      <td>108</td>\n",
       "      <td>0</td>\n",
       "    </tr>\n",
       "    <tr>\n",
       "      <th>岩手</th>\n",
       "      <td>970</td>\n",
       "      <td>5346</td>\n",
       "      <td>217728</td>\n",
       "      <td>29113</td>\n",
       "      <td>2316</td>\n",
       "      <td>1948</td>\n",
       "      <td>1570</td>\n",
       "      <td>1404</td>\n",
       "      <td>1175</td>\n",
       "      <td>750</td>\n",
       "      <td>...</td>\n",
       "      <td>7</td>\n",
       "      <td>1</td>\n",
       "      <td>68</td>\n",
       "      <td>23</td>\n",
       "      <td>0</td>\n",
       "      <td>15</td>\n",
       "      <td>4</td>\n",
       "      <td>10</td>\n",
       "      <td>14</td>\n",
       "      <td>0</td>\n",
       "    </tr>\n",
       "    <tr>\n",
       "      <th>宮城</th>\n",
       "      <td>2929</td>\n",
       "      <td>6410</td>\n",
       "      <td>19599</td>\n",
       "      <td>239230</td>\n",
       "      <td>12678</td>\n",
       "      <td>13613</td>\n",
       "      <td>22723</td>\n",
       "      <td>2854</td>\n",
       "      <td>2806</td>\n",
       "      <td>1264</td>\n",
       "      <td>...</td>\n",
       "      <td>3</td>\n",
       "      <td>2</td>\n",
       "      <td>305</td>\n",
       "      <td>3</td>\n",
       "      <td>11</td>\n",
       "      <td>180</td>\n",
       "      <td>10</td>\n",
       "      <td>3</td>\n",
       "      <td>3</td>\n",
       "      <td>1</td>\n",
       "    </tr>\n",
       "    <tr>\n",
       "      <th>秋田</th>\n",
       "      <td>833</td>\n",
       "      <td>1311</td>\n",
       "      <td>4331</td>\n",
       "      <td>2475</td>\n",
       "      <td>118773</td>\n",
       "      <td>1289</td>\n",
       "      <td>1127</td>\n",
       "      <td>1002</td>\n",
       "      <td>179</td>\n",
       "      <td>353</td>\n",
       "      <td>...</td>\n",
       "      <td>0</td>\n",
       "      <td>0</td>\n",
       "      <td>18</td>\n",
       "      <td>0</td>\n",
       "      <td>1</td>\n",
       "      <td>7</td>\n",
       "      <td>1</td>\n",
       "      <td>0</td>\n",
       "      <td>1</td>\n",
       "      <td>0</td>\n",
       "    </tr>\n",
       "  </tbody>\n",
       "</table>\n",
       "<p>5 rows × 47 columns</p>\n",
       "</div>"
      ],
      "text/plain": [
       "        北海道      青森      岩手      宮城      秋田     山形     福島    茨城    栃木    群馬  \\\n",
       "北海道  602116    2070     263    1787     274    645    371  2969   629  2035   \n",
       "青森     1185  223794    8268    2661    2846    333   5606   769   384  1046   \n",
       "岩手      970    5346  217728   29113    2316   1948   1570  1404  1175   750   \n",
       "宮城     2929    6410   19599  239230   12678  13613  22723  2854  2806  1264   \n",
       "秋田      833    1311    4331    2475  118773   1289   1127  1002   179   353   \n",
       "\n",
       "    ...  愛媛   高知   福岡  佐賀  長崎   熊本  大分   宮崎  鹿児島  沖縄  \n",
       "北海道 ...  49  110  969  82   0    3   0    2    5   0  \n",
       "青森  ...  10    0   75   0  68  133   2  116  108   0  \n",
       "岩手  ...   7    1   68  23   0   15   4   10   14   0  \n",
       "宮城  ...   3    2  305   3  11  180  10    3    3   1  \n",
       "秋田  ...   0    0   18   0   1    7   1    0    1   0  \n",
       "\n",
       "[5 rows x 47 columns]"
      ]
     },
     "execution_count": 3,
     "metadata": {},
     "output_type": "execute_result"
    }
   ],
   "source": [
    "df.head()"
   ]
  },
  {
   "cell_type": "code",
   "execution_count": 4,
   "metadata": {
    "collapsed": false
   },
   "outputs": [],
   "source": [
    "from_tokyo = df['東京':'東京'].T\n",
    "from_tokyo.columns = ['from_vol']\n",
    "from_tokyo = from_tokyo.drop('東京')\n",
    "to_tokyo = pd.DataFrame(df['東京'])\n",
    "to_tokyo.columns = ['to_vol']\n",
    "to_tokyo = to_tokyo.drop('東京')"
   ]
  },
  {
   "cell_type": "markdown",
   "metadata": {},
   "source": [
    "#### 東京出発の物流量統計データ"
   ]
  },
  {
   "cell_type": "code",
   "execution_count": 5,
   "metadata": {
    "collapsed": false
   },
   "outputs": [
    {
     "data": {
      "text/html": [
       "<div>\n",
       "<table border=\"1\" class=\"dataframe\">\n",
       "  <thead>\n",
       "    <tr style=\"text-align: right;\">\n",
       "      <th></th>\n",
       "      <th>from_vol</th>\n",
       "    </tr>\n",
       "  </thead>\n",
       "  <tbody>\n",
       "    <tr>\n",
       "      <th>count</th>\n",
       "      <td>46.000000</td>\n",
       "    </tr>\n",
       "    <tr>\n",
       "      <th>mean</th>\n",
       "      <td>8396.021739</td>\n",
       "    </tr>\n",
       "    <tr>\n",
       "      <th>std</th>\n",
       "      <td>22025.210021</td>\n",
       "    </tr>\n",
       "    <tr>\n",
       "      <th>min</th>\n",
       "      <td>21.000000</td>\n",
       "    </tr>\n",
       "    <tr>\n",
       "      <th>25%</th>\n",
       "      <td>299.500000</td>\n",
       "    </tr>\n",
       "    <tr>\n",
       "      <th>50%</th>\n",
       "      <td>1076.000000</td>\n",
       "    </tr>\n",
       "    <tr>\n",
       "      <th>75%</th>\n",
       "      <td>5606.500000</td>\n",
       "    </tr>\n",
       "    <tr>\n",
       "      <th>max</th>\n",
       "      <td>135941.000000</td>\n",
       "    </tr>\n",
       "  </tbody>\n",
       "</table>\n",
       "</div>"
      ],
      "text/plain": [
       "            from_vol\n",
       "count      46.000000\n",
       "mean     8396.021739\n",
       "std     22025.210021\n",
       "min        21.000000\n",
       "25%       299.500000\n",
       "50%      1076.000000\n",
       "75%      5606.500000\n",
       "max    135941.000000"
      ]
     },
     "execution_count": 5,
     "metadata": {},
     "output_type": "execute_result"
    }
   ],
   "source": [
    "from_tokyo.describe()"
   ]
  },
  {
   "cell_type": "markdown",
   "metadata": {},
   "source": [
    "#### 東京着の物流量統計データ"
   ]
  },
  {
   "cell_type": "code",
   "execution_count": 6,
   "metadata": {
    "collapsed": false
   },
   "outputs": [
    {
     "data": {
      "text/html": [
       "<div>\n",
       "<table border=\"1\" class=\"dataframe\">\n",
       "  <thead>\n",
       "    <tr style=\"text-align: right;\">\n",
       "      <th></th>\n",
       "      <th>to_vol</th>\n",
       "    </tr>\n",
       "  </thead>\n",
       "  <tbody>\n",
       "    <tr>\n",
       "      <th>count</th>\n",
       "      <td>46.000000</td>\n",
       "    </tr>\n",
       "    <tr>\n",
       "      <th>mean</th>\n",
       "      <td>12620.934783</td>\n",
       "    </tr>\n",
       "    <tr>\n",
       "      <th>std</th>\n",
       "      <td>31015.922889</td>\n",
       "    </tr>\n",
       "    <tr>\n",
       "      <th>min</th>\n",
       "      <td>0.000000</td>\n",
       "    </tr>\n",
       "    <tr>\n",
       "      <th>25%</th>\n",
       "      <td>825.250000</td>\n",
       "    </tr>\n",
       "    <tr>\n",
       "      <th>50%</th>\n",
       "      <td>1966.000000</td>\n",
       "    </tr>\n",
       "    <tr>\n",
       "      <th>75%</th>\n",
       "      <td>8053.250000</td>\n",
       "    </tr>\n",
       "    <tr>\n",
       "      <th>max</th>\n",
       "      <td>159705.000000</td>\n",
       "    </tr>\n",
       "  </tbody>\n",
       "</table>\n",
       "</div>"
      ],
      "text/plain": [
       "              to_vol\n",
       "count      46.000000\n",
       "mean    12620.934783\n",
       "std     31015.922889\n",
       "min         0.000000\n",
       "25%       825.250000\n",
       "50%      1966.000000\n",
       "75%      8053.250000\n",
       "max    159705.000000"
      ]
     },
     "execution_count": 6,
     "metadata": {},
     "output_type": "execute_result"
    }
   ],
   "source": [
    "to_tokyo.describe()"
   ]
  },
  {
   "cell_type": "markdown",
   "metadata": {},
   "source": [
    "### 東京発上位5県，下位5県\n",
    "- 上位：関東 + 大阪+愛知\n",
    "- 下位: 沖縄 + 九州"
   ]
  },
  {
   "cell_type": "code",
   "execution_count": 7,
   "metadata": {
    "collapsed": false
   },
   "outputs": [
    {
     "data": {
      "text/html": [
       "<div>\n",
       "<table border=\"1\" class=\"dataframe\">\n",
       "  <thead>\n",
       "    <tr style=\"text-align: right;\">\n",
       "      <th></th>\n",
       "      <th>from_vol</th>\n",
       "    </tr>\n",
       "  </thead>\n",
       "  <tbody>\n",
       "    <tr>\n",
       "      <th>埼玉</th>\n",
       "      <td>135941</td>\n",
       "    </tr>\n",
       "    <tr>\n",
       "      <th>神奈川</th>\n",
       "      <td>51681</td>\n",
       "    </tr>\n",
       "    <tr>\n",
       "      <th>山梨</th>\n",
       "      <td>38532</td>\n",
       "    </tr>\n",
       "    <tr>\n",
       "      <th>千葉</th>\n",
       "      <td>34821</td>\n",
       "    </tr>\n",
       "    <tr>\n",
       "      <th>大阪</th>\n",
       "      <td>19694</td>\n",
       "    </tr>\n",
       "    <tr>\n",
       "      <th>茨城</th>\n",
       "      <td>16467</td>\n",
       "    </tr>\n",
       "    <tr>\n",
       "      <th>宮城</th>\n",
       "      <td>11784</td>\n",
       "    </tr>\n",
       "    <tr>\n",
       "      <th>栃木</th>\n",
       "      <td>11246</td>\n",
       "    </tr>\n",
       "    <tr>\n",
       "      <th>群馬</th>\n",
       "      <td>8490</td>\n",
       "    </tr>\n",
       "    <tr>\n",
       "      <th>愛知</th>\n",
       "      <td>8051</td>\n",
       "    </tr>\n",
       "  </tbody>\n",
       "</table>\n",
       "</div>"
      ],
      "text/plain": [
       "     from_vol\n",
       "埼玉     135941\n",
       "神奈川     51681\n",
       "山梨      38532\n",
       "千葉      34821\n",
       "大阪      19694\n",
       "茨城      16467\n",
       "宮城      11784\n",
       "栃木      11246\n",
       "群馬       8490\n",
       "愛知       8051"
      ]
     },
     "execution_count": 7,
     "metadata": {},
     "output_type": "execute_result"
    }
   ],
   "source": [
    "from_tokyo.sort_values('from_vol', ascending=False).head(10)"
   ]
  },
  {
   "cell_type": "code",
   "execution_count": 8,
   "metadata": {
    "collapsed": false,
    "scrolled": true
   },
   "outputs": [
    {
     "data": {
      "text/html": [
       "<div>\n",
       "<table border=\"1\" class=\"dataframe\">\n",
       "  <thead>\n",
       "    <tr style=\"text-align: right;\">\n",
       "      <th></th>\n",
       "      <th>from_vol</th>\n",
       "    </tr>\n",
       "  </thead>\n",
       "  <tbody>\n",
       "    <tr>\n",
       "      <th>沖縄</th>\n",
       "      <td>21</td>\n",
       "    </tr>\n",
       "    <tr>\n",
       "      <th>宮崎</th>\n",
       "      <td>68</td>\n",
       "    </tr>\n",
       "    <tr>\n",
       "      <th>山口</th>\n",
       "      <td>93</td>\n",
       "    </tr>\n",
       "    <tr>\n",
       "      <th>島根</th>\n",
       "      <td>111</td>\n",
       "    </tr>\n",
       "    <tr>\n",
       "      <th>大分</th>\n",
       "      <td>116</td>\n",
       "    </tr>\n",
       "  </tbody>\n",
       "</table>\n",
       "</div>"
      ],
      "text/plain": [
       "    from_vol\n",
       "沖縄        21\n",
       "宮崎        68\n",
       "山口        93\n",
       "島根       111\n",
       "大分       116"
      ]
     },
     "execution_count": 8,
     "metadata": {},
     "output_type": "execute_result"
    }
   ],
   "source": [
    "from_tokyo.sort_values('from_vol').head(5)"
   ]
  },
  {
   "cell_type": "markdown",
   "metadata": {},
   "source": [
    "### 東京着上位5県下位5県\n",
    "- 上位: 関東 + 愛知 + 新潟 + 岡山\n",
    "- 下位 : 九州"
   ]
  },
  {
   "cell_type": "code",
   "execution_count": 9,
   "metadata": {
    "collapsed": false
   },
   "outputs": [
    {
     "data": {
      "text/html": [
       "<div>\n",
       "<table border=\"1\" class=\"dataframe\">\n",
       "  <thead>\n",
       "    <tr style=\"text-align: right;\">\n",
       "      <th></th>\n",
       "      <th>to_vol</th>\n",
       "    </tr>\n",
       "  </thead>\n",
       "  <tbody>\n",
       "    <tr>\n",
       "      <th>埼玉</th>\n",
       "      <td>159705</td>\n",
       "    </tr>\n",
       "    <tr>\n",
       "      <th>神奈川</th>\n",
       "      <td>133411</td>\n",
       "    </tr>\n",
       "    <tr>\n",
       "      <th>千葉</th>\n",
       "      <td>53694</td>\n",
       "    </tr>\n",
       "    <tr>\n",
       "      <th>茨城</th>\n",
       "      <td>36192</td>\n",
       "    </tr>\n",
       "    <tr>\n",
       "      <th>栃木</th>\n",
       "      <td>32339</td>\n",
       "    </tr>\n",
       "    <tr>\n",
       "      <th>群馬</th>\n",
       "      <td>29909</td>\n",
       "    </tr>\n",
       "    <tr>\n",
       "      <th>静岡</th>\n",
       "      <td>16309</td>\n",
       "    </tr>\n",
       "    <tr>\n",
       "      <th>愛知</th>\n",
       "      <td>14536</td>\n",
       "    </tr>\n",
       "    <tr>\n",
       "      <th>新潟</th>\n",
       "      <td>12887</td>\n",
       "    </tr>\n",
       "    <tr>\n",
       "      <th>岡山</th>\n",
       "      <td>12311</td>\n",
       "    </tr>\n",
       "  </tbody>\n",
       "</table>\n",
       "</div>"
      ],
      "text/plain": [
       "     to_vol\n",
       "埼玉   159705\n",
       "神奈川  133411\n",
       "千葉    53694\n",
       "茨城    36192\n",
       "栃木    32339\n",
       "群馬    29909\n",
       "静岡    16309\n",
       "愛知    14536\n",
       "新潟    12887\n",
       "岡山    12311"
      ]
     },
     "execution_count": 9,
     "metadata": {},
     "output_type": "execute_result"
    }
   ],
   "source": [
    "to_tokyo.sort_values('to_vol', ascending=False).head(10)"
   ]
  },
  {
   "cell_type": "code",
   "execution_count": 10,
   "metadata": {
    "collapsed": false
   },
   "outputs": [
    {
     "data": {
      "text/html": [
       "<div>\n",
       "<table border=\"1\" class=\"dataframe\">\n",
       "  <thead>\n",
       "    <tr style=\"text-align: right;\">\n",
       "      <th></th>\n",
       "      <th>to_vol</th>\n",
       "    </tr>\n",
       "  </thead>\n",
       "  <tbody>\n",
       "    <tr>\n",
       "      <th>沖縄</th>\n",
       "      <td>0</td>\n",
       "    </tr>\n",
       "    <tr>\n",
       "      <th>佐賀</th>\n",
       "      <td>216</td>\n",
       "    </tr>\n",
       "    <tr>\n",
       "      <th>徳島</th>\n",
       "      <td>255</td>\n",
       "    </tr>\n",
       "    <tr>\n",
       "      <th>奈良</th>\n",
       "      <td>349</td>\n",
       "    </tr>\n",
       "    <tr>\n",
       "      <th>島根</th>\n",
       "      <td>371</td>\n",
       "    </tr>\n",
       "  </tbody>\n",
       "</table>\n",
       "</div>"
      ],
      "text/plain": [
       "    to_vol\n",
       "沖縄       0\n",
       "佐賀     216\n",
       "徳島     255\n",
       "奈良     349\n",
       "島根     371"
      ]
     },
     "execution_count": 10,
     "metadata": {},
     "output_type": "execute_result"
    }
   ],
   "source": [
    "to_tokyo.sort_values('to_vol').head(5)"
   ]
  },
  {
   "cell_type": "code",
   "execution_count": 11,
   "metadata": {
    "collapsed": false
   },
   "outputs": [],
   "source": [
    "merged_data = pd.merge(from_tokyo, to_tokyo, left_index=True, right_index=True)\n",
    "merged_data['from-to'] = merged_data['from_vol'] - merged_data['to_vol']"
   ]
  },
  {
   "cell_type": "markdown",
   "metadata": {
    "collapsed": true
   },
   "source": [
    "## 東京発着物流量の差と割合"
   ]
  },
  {
   "cell_type": "markdown",
   "metadata": {},
   "source": [
    "### 1. 東京発着物流量の差"
   ]
  },
  {
   "cell_type": "markdown",
   "metadata": {},
   "source": [
    "#### 1-1. 統計量"
   ]
  },
  {
   "cell_type": "code",
   "execution_count": 12,
   "metadata": {
    "collapsed": false
   },
   "outputs": [
    {
     "data": {
      "text/plain": [
       "count       46.000000\n",
       "mean     -4224.913043\n",
       "std      14806.656689\n",
       "min     -81730.000000\n",
       "25%      -2132.500000\n",
       "50%       -581.000000\n",
       "75%       -124.750000\n",
       "max      34967.000000\n",
       "Name: from-to, dtype: float64"
      ]
     },
     "execution_count": 12,
     "metadata": {},
     "output_type": "execute_result"
    }
   ],
   "source": [
    "merged_data['from-to'].describe()"
   ]
  },
  {
   "cell_type": "markdown",
   "metadata": {},
   "source": [
    "#### 1-2. 差の分布\n",
    "- 想像通り多くの場合 東京への物量 >>> 東京からの物量\n",
    "- 分布が思ったよりかはだいぶ0に近いところに集中しているイメージはありそう"
   ]
  },
  {
   "cell_type": "code",
   "execution_count": 13,
   "metadata": {
    "collapsed": false
   },
   "outputs": [
    {
     "data": {
      "text/plain": [
       "<matplotlib.axes._subplots.AxesSubplot at 0x11c83c320>"
      ]
     },
     "execution_count": 13,
     "metadata": {},
     "output_type": "execute_result"
    },
    {
     "data": {
      "image/png": "[encoded data removed]",
      "text/plain": [
       "<Figure size 432x288 with 1 Axes>"
      ]
     },
     "metadata": {},
     "output_type": "display_data"
    }
   ],
   "source": [
    "merged_data['from-to'].plot.hist(bins=20, color='grey', rwidth=.8)"
   ]
  },
  {
   "cell_type": "markdown",
   "metadata": {},
   "source": [
    "### 2.  東京発着の物量の差の絶対値"
   ]
  },
  {
   "cell_type": "code",
   "execution_count": 14,
   "metadata": {
    "collapsed": true
   },
   "outputs": [],
   "source": [
    "merged_data['from-to'] = merged_data['from-to'].abs()"
   ]
  },
  {
   "cell_type": "markdown",
   "metadata": {},
   "source": [
    "#### 2-1. 発着の物量の差が大きい上位10県\n",
    "- 関東圏では顕著に 東京への物量 >> 東京からの物量\n",
    "- 岡山と新潟はちょっと意外"
   ]
  },
  {
   "cell_type": "code",
   "execution_count": 15,
   "metadata": {
    "collapsed": false
   },
   "outputs": [
    {
     "data": {
      "text/html": [
       "<div>\n",
       "<table border=\"1\" class=\"dataframe\">\n",
       "  <thead>\n",
       "    <tr style=\"text-align: right;\">\n",
       "      <th></th>\n",
       "      <th>from_vol</th>\n",
       "      <th>to_vol</th>\n",
       "      <th>from-to</th>\n",
       "    </tr>\n",
       "  </thead>\n",
       "  <tbody>\n",
       "    <tr>\n",
       "      <th>神奈川</th>\n",
       "      <td>51681</td>\n",
       "      <td>133411</td>\n",
       "      <td>81730</td>\n",
       "    </tr>\n",
       "    <tr>\n",
       "      <th>山梨</th>\n",
       "      <td>38532</td>\n",
       "      <td>3565</td>\n",
       "      <td>34967</td>\n",
       "    </tr>\n",
       "    <tr>\n",
       "      <th>埼玉</th>\n",
       "      <td>135941</td>\n",
       "      <td>159705</td>\n",
       "      <td>23764</td>\n",
       "    </tr>\n",
       "    <tr>\n",
       "      <th>群馬</th>\n",
       "      <td>8490</td>\n",
       "      <td>29909</td>\n",
       "      <td>21419</td>\n",
       "    </tr>\n",
       "    <tr>\n",
       "      <th>栃木</th>\n",
       "      <td>11246</td>\n",
       "      <td>32339</td>\n",
       "      <td>21093</td>\n",
       "    </tr>\n",
       "    <tr>\n",
       "      <th>茨城</th>\n",
       "      <td>16467</td>\n",
       "      <td>36192</td>\n",
       "      <td>19725</td>\n",
       "    </tr>\n",
       "    <tr>\n",
       "      <th>千葉</th>\n",
       "      <td>34821</td>\n",
       "      <td>53694</td>\n",
       "      <td>18873</td>\n",
       "    </tr>\n",
       "    <tr>\n",
       "      <th>岡山</th>\n",
       "      <td>382</td>\n",
       "      <td>12311</td>\n",
       "      <td>11929</td>\n",
       "    </tr>\n",
       "    <tr>\n",
       "      <th>静岡</th>\n",
       "      <td>5736</td>\n",
       "      <td>16309</td>\n",
       "      <td>10573</td>\n",
       "    </tr>\n",
       "    <tr>\n",
       "      <th>新潟</th>\n",
       "      <td>2978</td>\n",
       "      <td>12887</td>\n",
       "      <td>9909</td>\n",
       "    </tr>\n",
       "  </tbody>\n",
       "</table>\n",
       "</div>"
      ],
      "text/plain": [
       "     from_vol  to_vol  from-to\n",
       "神奈川     51681  133411    81730\n",
       "山梨      38532    3565    34967\n",
       "埼玉     135941  159705    23764\n",
       "群馬       8490   29909    21419\n",
       "栃木      11246   32339    21093\n",
       "茨城      16467   36192    19725\n",
       "千葉      34821   53694    18873\n",
       "岡山        382   12311    11929\n",
       "静岡       5736   16309    10573\n",
       "新潟       2978   12887     9909"
      ]
     },
     "execution_count": 15,
     "metadata": {},
     "output_type": "execute_result"
    }
   ],
   "source": [
    "merged_data.sort_values('from-to', ascending=False).head(10)"
   ]
  },
  {
   "cell_type": "markdown",
   "metadata": {},
   "source": [
    "#### 2-1. 発着の物量の差が小さい上位10県\n",
    "- 関東圏を離れると，トラックの物流の量は東京発も東京着もそんなに変わらない\n",
    "- 熊本とか福岡って結構遠いのに物流量ほぼ同じだ"
   ]
  },
  {
   "cell_type": "code",
   "execution_count": 16,
   "metadata": {
    "collapsed": false
   },
   "outputs": [
    {
     "data": {
      "text/html": [
       "<div>\n",
       "<table border=\"1\" class=\"dataframe\">\n",
       "  <thead>\n",
       "    <tr style=\"text-align: right;\">\n",
       "      <th></th>\n",
       "      <th>from_vol</th>\n",
       "      <th>to_vol</th>\n",
       "      <th>from-to</th>\n",
       "    </tr>\n",
       "  </thead>\n",
       "  <tbody>\n",
       "    <tr>\n",
       "      <th>奈良</th>\n",
       "      <td>331</td>\n",
       "      <td>349</td>\n",
       "      <td>18</td>\n",
       "    </tr>\n",
       "    <tr>\n",
       "      <th>沖縄</th>\n",
       "      <td>21</td>\n",
       "      <td>0</td>\n",
       "      <td>21</td>\n",
       "    </tr>\n",
       "    <tr>\n",
       "      <th>熊本</th>\n",
       "      <td>1130</td>\n",
       "      <td>1170</td>\n",
       "      <td>40</td>\n",
       "    </tr>\n",
       "    <tr>\n",
       "      <th>佐賀</th>\n",
       "      <td>155</td>\n",
       "      <td>216</td>\n",
       "      <td>61</td>\n",
       "    </tr>\n",
       "    <tr>\n",
       "      <th>徳島</th>\n",
       "      <td>135</td>\n",
       "      <td>255</td>\n",
       "      <td>120</td>\n",
       "    </tr>\n",
       "    <tr>\n",
       "      <th>愛媛</th>\n",
       "      <td>687</td>\n",
       "      <td>826</td>\n",
       "      <td>139</td>\n",
       "    </tr>\n",
       "    <tr>\n",
       "      <th>秋田</th>\n",
       "      <td>612</td>\n",
       "      <td>825</td>\n",
       "      <td>213</td>\n",
       "    </tr>\n",
       "    <tr>\n",
       "      <th>福岡</th>\n",
       "      <td>2278</td>\n",
       "      <td>2064</td>\n",
       "      <td>214</td>\n",
       "    </tr>\n",
       "    <tr>\n",
       "      <th>鳥取</th>\n",
       "      <td>266</td>\n",
       "      <td>499</td>\n",
       "      <td>233</td>\n",
       "    </tr>\n",
       "    <tr>\n",
       "      <th>島根</th>\n",
       "      <td>111</td>\n",
       "      <td>371</td>\n",
       "      <td>260</td>\n",
       "    </tr>\n",
       "  </tbody>\n",
       "</table>\n",
       "</div>"
      ],
      "text/plain": [
       "    from_vol  to_vol  from-to\n",
       "奈良       331     349       18\n",
       "沖縄        21       0       21\n",
       "熊本      1130    1170       40\n",
       "佐賀       155     216       61\n",
       "徳島       135     255      120\n",
       "愛媛       687     826      139\n",
       "秋田       612     825      213\n",
       "福岡      2278    2064      214\n",
       "鳥取       266     499      233\n",
       "島根       111     371      260"
      ]
     },
     "execution_count": 16,
     "metadata": {},
     "output_type": "execute_result"
    }
   ],
   "source": [
    "merged_data.sort_values('from-to').head(10)"
   ]
  },
  {
   "cell_type": "markdown",
   "metadata": {},
   "source": [
    "#### 1-2. 差の絶対値の分布"
   ]
  },
  {
   "cell_type": "code",
   "execution_count": 17,
   "metadata": {
    "collapsed": false
   },
   "outputs": [
    {
     "data": {
      "text/plain": [
       "<matplotlib.axes._subplots.AxesSubplot at 0x11cb7df98>"
      ]
     },
     "execution_count": 17,
     "metadata": {},
     "output_type": "execute_result"
    },
    {
     "data": {
      "image/png": "[encoded data removed]",
      "text/plain": [
       "<Figure size 432x288 with 1 Axes>"
      ]
     },
     "metadata": {},
     "output_type": "display_data"
    }
   ],
   "source": [
    "merged_data['from-to'].plot.hist(bins=20, color='grey', rwidth=.8)"
   ]
  },
  {
   "cell_type": "markdown",
   "metadata": {
    "collapsed": true
   },
   "source": [
    "### 3. 東京の物量 / 東京発の物量"
   ]
  },
  {
   "cell_type": "code",
   "execution_count": 18,
   "metadata": {
    "collapsed": true
   },
   "outputs": [],
   "source": [
    "merged_data['to/from'] = merged_data['to_vol'] / merged_data['from_vol']"
   ]
  },
  {
   "cell_type": "markdown",
   "metadata": {},
   "source": [
    "#### 3-1. 東京の物量 / 東京発の物量が大きい上位10県\n",
    "- 割合でみると，関東圏はすくなくなるな〜〜そもそもの物量が多いからな〜〜\n",
    "- 岡山すごい物流の差だ"
   ]
  },
  {
   "cell_type": "code",
   "execution_count": 19,
   "metadata": {
    "collapsed": false
   },
   "outputs": [
    {
     "data": {
      "text/html": [
       "<div>\n",
       "<table border=\"1\" class=\"dataframe\">\n",
       "  <thead>\n",
       "    <tr style=\"text-align: right;\">\n",
       "      <th></th>\n",
       "      <th>from_vol</th>\n",
       "      <th>to_vol</th>\n",
       "      <th>from-to</th>\n",
       "      <th>to/from</th>\n",
       "    </tr>\n",
       "  </thead>\n",
       "  <tbody>\n",
       "    <tr>\n",
       "      <th>岡山</th>\n",
       "      <td>382</td>\n",
       "      <td>12311</td>\n",
       "      <td>11929</td>\n",
       "      <td>32.227749</td>\n",
       "    </tr>\n",
       "    <tr>\n",
       "      <th>山口</th>\n",
       "      <td>93</td>\n",
       "      <td>1617</td>\n",
       "      <td>1524</td>\n",
       "      <td>17.387097</td>\n",
       "    </tr>\n",
       "    <tr>\n",
       "      <th>福井</th>\n",
       "      <td>138</td>\n",
       "      <td>898</td>\n",
       "      <td>760</td>\n",
       "      <td>6.507246</td>\n",
       "    </tr>\n",
       "    <tr>\n",
       "      <th>大分</th>\n",
       "      <td>116</td>\n",
       "      <td>685</td>\n",
       "      <td>569</td>\n",
       "      <td>5.905172</td>\n",
       "    </tr>\n",
       "    <tr>\n",
       "      <th>宮崎</th>\n",
       "      <td>68</td>\n",
       "      <td>386</td>\n",
       "      <td>318</td>\n",
       "      <td>5.676471</td>\n",
       "    </tr>\n",
       "    <tr>\n",
       "      <th>新潟</th>\n",
       "      <td>2978</td>\n",
       "      <td>12887</td>\n",
       "      <td>9909</td>\n",
       "      <td>4.327401</td>\n",
       "    </tr>\n",
       "    <tr>\n",
       "      <th>岐阜</th>\n",
       "      <td>556</td>\n",
       "      <td>2402</td>\n",
       "      <td>1846</td>\n",
       "      <td>4.320144</td>\n",
       "    </tr>\n",
       "    <tr>\n",
       "      <th>香川</th>\n",
       "      <td>238</td>\n",
       "      <td>855</td>\n",
       "      <td>617</td>\n",
       "      <td>3.592437</td>\n",
       "    </tr>\n",
       "    <tr>\n",
       "      <th>群馬</th>\n",
       "      <td>8490</td>\n",
       "      <td>29909</td>\n",
       "      <td>21419</td>\n",
       "      <td>3.522850</td>\n",
       "    </tr>\n",
       "    <tr>\n",
       "      <th>長崎</th>\n",
       "      <td>132</td>\n",
       "      <td>454</td>\n",
       "      <td>322</td>\n",
       "      <td>3.439394</td>\n",
       "    </tr>\n",
       "  </tbody>\n",
       "</table>\n",
       "</div>"
      ],
      "text/plain": [
       "    from_vol  to_vol  from-to    to/from\n",
       "岡山       382   12311    11929  32.227749\n",
       "山口        93    1617     1524  17.387097\n",
       "福井       138     898      760   6.507246\n",
       "大分       116     685      569   5.905172\n",
       "宮崎        68     386      318   5.676471\n",
       "新潟      2978   12887     9909   4.327401\n",
       "岐阜       556    2402     1846   4.320144\n",
       "香川       238     855      617   3.592437\n",
       "群馬      8490   29909    21419   3.522850\n",
       "長崎       132     454      322   3.439394"
      ]
     },
     "execution_count": 19,
     "metadata": {},
     "output_type": "execute_result"
    }
   ],
   "source": [
    "merged_data.sort_values('to/from', ascending=False).head(10)"
   ]
  },
  {
   "cell_type": "markdown",
   "metadata": {},
   "source": [
    "#### 3-2. 東京の物量 / 東京発の物量が小さい上位10県\n",
    "- 割合でみるじゃなくてどれだけ1から離れてるかで見なきゃ意味ないな"
   ]
  },
  {
   "cell_type": "code",
   "execution_count": 20,
   "metadata": {
    "collapsed": false
   },
   "outputs": [
    {
     "data": {
      "text/html": [
       "<div>\n",
       "<table border=\"1\" class=\"dataframe\">\n",
       "  <thead>\n",
       "    <tr style=\"text-align: right;\">\n",
       "      <th></th>\n",
       "      <th>from_vol</th>\n",
       "      <th>to_vol</th>\n",
       "      <th>from-to</th>\n",
       "      <th>to/from</th>\n",
       "    </tr>\n",
       "  </thead>\n",
       "  <tbody>\n",
       "    <tr>\n",
       "      <th>沖縄</th>\n",
       "      <td>21</td>\n",
       "      <td>0</td>\n",
       "      <td>21</td>\n",
       "      <td>0.000000</td>\n",
       "    </tr>\n",
       "    <tr>\n",
       "      <th>山梨</th>\n",
       "      <td>38532</td>\n",
       "      <td>3565</td>\n",
       "      <td>34967</td>\n",
       "      <td>0.092521</td>\n",
       "    </tr>\n",
       "    <tr>\n",
       "      <th>広島</th>\n",
       "      <td>2553</td>\n",
       "      <td>554</td>\n",
       "      <td>1999</td>\n",
       "      <td>0.217000</td>\n",
       "    </tr>\n",
       "    <tr>\n",
       "      <th>宮城</th>\n",
       "      <td>11784</td>\n",
       "      <td>4379</td>\n",
       "      <td>7405</td>\n",
       "      <td>0.371606</td>\n",
       "    </tr>\n",
       "    <tr>\n",
       "      <th>大阪</th>\n",
       "      <td>19694</td>\n",
       "      <td>10779</td>\n",
       "      <td>8915</td>\n",
       "      <td>0.547324</td>\n",
       "    </tr>\n",
       "    <tr>\n",
       "      <th>高知</th>\n",
       "      <td>962</td>\n",
       "      <td>552</td>\n",
       "      <td>410</td>\n",
       "      <td>0.573805</td>\n",
       "    </tr>\n",
       "    <tr>\n",
       "      <th>三重</th>\n",
       "      <td>2520</td>\n",
       "      <td>1816</td>\n",
       "      <td>704</td>\n",
       "      <td>0.720635</td>\n",
       "    </tr>\n",
       "    <tr>\n",
       "      <th>福岡</th>\n",
       "      <td>2278</td>\n",
       "      <td>2064</td>\n",
       "      <td>214</td>\n",
       "      <td>0.906058</td>\n",
       "    </tr>\n",
       "    <tr>\n",
       "      <th>熊本</th>\n",
       "      <td>1130</td>\n",
       "      <td>1170</td>\n",
       "      <td>40</td>\n",
       "      <td>1.035398</td>\n",
       "    </tr>\n",
       "    <tr>\n",
       "      <th>奈良</th>\n",
       "      <td>331</td>\n",
       "      <td>349</td>\n",
       "      <td>18</td>\n",
       "      <td>1.054381</td>\n",
       "    </tr>\n",
       "  </tbody>\n",
       "</table>\n",
       "</div>"
      ],
      "text/plain": [
       "    from_vol  to_vol  from-to   to/from\n",
       "沖縄        21       0       21  0.000000\n",
       "山梨     38532    3565    34967  0.092521\n",
       "広島      2553     554     1999  0.217000\n",
       "宮城     11784    4379     7405  0.371606\n",
       "大阪     19694   10779     8915  0.547324\n",
       "高知       962     552      410  0.573805\n",
       "三重      2520    1816      704  0.720635\n",
       "福岡      2278    2064      214  0.906058\n",
       "熊本      1130    1170       40  1.035398\n",
       "奈良       331     349       18  1.054381"
      ]
     },
     "execution_count": 20,
     "metadata": {},
     "output_type": "execute_result"
    }
   ],
   "source": [
    "merged_data.sort_values('to/from').head(10)"
   ]
  },
  {
   "cell_type": "markdown",
   "metadata": {},
   "source": [
    "#### 3-3. 東京の物量 / 東京発の物量が小さい(0.4~1.6)県\n",
    "- 関東圏はそんなに入ってこなくて，割と距離が遠い県との物流そんなに差がない\n",
    "- とはいえ，1.5倍は十分大きい差とも言えるから，何ともいえないかな"
   ]
  },
  {
   "cell_type": "code",
   "execution_count": 21,
   "metadata": {
    "collapsed": false
   },
   "outputs": [
    {
     "data": {
      "text/html": [
       "<div>\n",
       "<table border=\"1\" class=\"dataframe\">\n",
       "  <thead>\n",
       "    <tr style=\"text-align: right;\">\n",
       "      <th></th>\n",
       "      <th>from_vol</th>\n",
       "      <th>to_vol</th>\n",
       "      <th>from-to</th>\n",
       "      <th>to/from</th>\n",
       "    </tr>\n",
       "  </thead>\n",
       "  <tbody>\n",
       "    <tr>\n",
       "      <th>北海道</th>\n",
       "      <td>3319</td>\n",
       "      <td>4993</td>\n",
       "      <td>1674</td>\n",
       "      <td>1.504369</td>\n",
       "    </tr>\n",
       "    <tr>\n",
       "      <th>岩手</th>\n",
       "      <td>1578</td>\n",
       "      <td>1851</td>\n",
       "      <td>273</td>\n",
       "      <td>1.173004</td>\n",
       "    </tr>\n",
       "    <tr>\n",
       "      <th>秋田</th>\n",
       "      <td>612</td>\n",
       "      <td>825</td>\n",
       "      <td>213</td>\n",
       "      <td>1.348039</td>\n",
       "    </tr>\n",
       "    <tr>\n",
       "      <th>福島</th>\n",
       "      <td>5500</td>\n",
       "      <td>5848</td>\n",
       "      <td>348</td>\n",
       "      <td>1.063273</td>\n",
       "    </tr>\n",
       "    <tr>\n",
       "      <th>埼玉</th>\n",
       "      <td>135941</td>\n",
       "      <td>159705</td>\n",
       "      <td>23764</td>\n",
       "      <td>1.174811</td>\n",
       "    </tr>\n",
       "    <tr>\n",
       "      <th>千葉</th>\n",
       "      <td>34821</td>\n",
       "      <td>53694</td>\n",
       "      <td>18873</td>\n",
       "      <td>1.542001</td>\n",
       "    </tr>\n",
       "    <tr>\n",
       "      <th>石川</th>\n",
       "      <td>1015</td>\n",
       "      <td>1447</td>\n",
       "      <td>432</td>\n",
       "      <td>1.425616</td>\n",
       "    </tr>\n",
       "    <tr>\n",
       "      <th>長野</th>\n",
       "      <td>4047</td>\n",
       "      <td>6194</td>\n",
       "      <td>2147</td>\n",
       "      <td>1.530516</td>\n",
       "    </tr>\n",
       "    <tr>\n",
       "      <th>三重</th>\n",
       "      <td>2520</td>\n",
       "      <td>1816</td>\n",
       "      <td>704</td>\n",
       "      <td>0.720635</td>\n",
       "    </tr>\n",
       "    <tr>\n",
       "      <th>大阪</th>\n",
       "      <td>19694</td>\n",
       "      <td>10779</td>\n",
       "      <td>8915</td>\n",
       "      <td>0.547324</td>\n",
       "    </tr>\n",
       "    <tr>\n",
       "      <th>兵庫</th>\n",
       "      <td>5642</td>\n",
       "      <td>8673</td>\n",
       "      <td>3031</td>\n",
       "      <td>1.537221</td>\n",
       "    </tr>\n",
       "    <tr>\n",
       "      <th>奈良</th>\n",
       "      <td>331</td>\n",
       "      <td>349</td>\n",
       "      <td>18</td>\n",
       "      <td>1.054381</td>\n",
       "    </tr>\n",
       "    <tr>\n",
       "      <th>和歌山</th>\n",
       "      <td>1580</td>\n",
       "      <td>2314</td>\n",
       "      <td>734</td>\n",
       "      <td>1.464557</td>\n",
       "    </tr>\n",
       "    <tr>\n",
       "      <th>愛媛</th>\n",
       "      <td>687</td>\n",
       "      <td>826</td>\n",
       "      <td>139</td>\n",
       "      <td>1.202329</td>\n",
       "    </tr>\n",
       "    <tr>\n",
       "      <th>高知</th>\n",
       "      <td>962</td>\n",
       "      <td>552</td>\n",
       "      <td>410</td>\n",
       "      <td>0.573805</td>\n",
       "    </tr>\n",
       "    <tr>\n",
       "      <th>福岡</th>\n",
       "      <td>2278</td>\n",
       "      <td>2064</td>\n",
       "      <td>214</td>\n",
       "      <td>0.906058</td>\n",
       "    </tr>\n",
       "    <tr>\n",
       "      <th>佐賀</th>\n",
       "      <td>155</td>\n",
       "      <td>216</td>\n",
       "      <td>61</td>\n",
       "      <td>1.393548</td>\n",
       "    </tr>\n",
       "    <tr>\n",
       "      <th>熊本</th>\n",
       "      <td>1130</td>\n",
       "      <td>1170</td>\n",
       "      <td>40</td>\n",
       "      <td>1.035398</td>\n",
       "    </tr>\n",
       "  </tbody>\n",
       "</table>\n",
       "</div>"
      ],
      "text/plain": [
       "     from_vol  to_vol  from-to   to/from\n",
       "北海道      3319    4993     1674  1.504369\n",
       "岩手       1578    1851      273  1.173004\n",
       "秋田        612     825      213  1.348039\n",
       "福島       5500    5848      348  1.063273\n",
       "埼玉     135941  159705    23764  1.174811\n",
       "千葉      34821   53694    18873  1.542001\n",
       "石川       1015    1447      432  1.425616\n",
       "長野       4047    6194     2147  1.530516\n",
       "三重       2520    1816      704  0.720635\n",
       "大阪      19694   10779     8915  0.547324\n",
       "兵庫       5642    8673     3031  1.537221\n",
       "奈良        331     349       18  1.054381\n",
       "和歌山      1580    2314      734  1.464557\n",
       "愛媛        687     826      139  1.202329\n",
       "高知        962     552      410  0.573805\n",
       "福岡       2278    2064      214  0.906058\n",
       "佐賀        155     216       61  1.393548\n",
       "熊本       1130    1170       40  1.035398"
      ]
     },
     "execution_count": 21,
     "metadata": {},
     "output_type": "execute_result"
    }
   ],
   "source": [
    "merged_data[(merged_data['to/from']  > 0.4) & (merged_data['to/from']  < 1.6)]"
   ]
  },
  {
   "cell_type": "markdown",
   "metadata": {
    "collapsed": true
   },
   "source": [
    "### 4. to/from - 1の絶対値\n"
   ]
  },
  {
   "cell_type": "code",
   "execution_count": 22,
   "metadata": {
    "collapsed": true
   },
   "outputs": [],
   "source": [
    "merged_data['to/from'] = (1 - (merged_data['to_vol'] / merged_data['from_vol'])).abs()"
   ]
  },
  {
   "cell_type": "markdown",
   "metadata": {},
   "source": [
    "#### 4-1. 統計量\n",
    "- 25％は0.6~1.4くらいの間に収まってる"
   ]
  },
  {
   "cell_type": "code",
   "execution_count": 23,
   "metadata": {
    "collapsed": false
   },
   "outputs": [
    {
     "data": {
      "text/plain": [
       "count    46.000000\n",
       "mean      2.335411\n",
       "std       5.059317\n",
       "min       0.035398\n",
       "25%       0.432816\n",
       "50%       0.898184\n",
       "75%       2.113491\n",
       "max      31.227749\n",
       "Name: to/from, dtype: float64"
      ]
     },
     "execution_count": 23,
     "metadata": {},
     "output_type": "execute_result"
    }
   ],
   "source": [
    "merged_data['to/from'].describe()"
   ]
  },
  {
   "cell_type": "markdown",
   "metadata": {},
   "source": [
    "#### 4-2. 0~3の分布"
   ]
  },
  {
   "cell_type": "code",
   "execution_count": 24,
   "metadata": {
    "collapsed": false
   },
   "outputs": [
    {
     "data": {
      "text/plain": [
       "<matplotlib.axes._subplots.AxesSubplot at 0x11cd3c2b0>"
      ]
     },
     "execution_count": 24,
     "metadata": {},
     "output_type": "execute_result"
    },
    {
     "data": {
      "image/png": "[encoded data removed]",
      "text/plain": [
       "<Figure size 432x288 with 1 Axes>"
      ]
     },
     "metadata": {},
     "output_type": "display_data"
    }
   ],
   "source": [
    "merged_data['to/from'].plot.hist(bins=20, color='grey', rwidth=.8, range=(0, 3))"
   ]
  },
  {
   "cell_type": "code",
   "execution_count": null,
   "metadata": {
    "collapsed": true
   },
   "outputs": [],
   "source": []
  },
  {
   "cell_type": "code",
   "execution_count": null,
   "metadata": {
    "collapsed": true
   },
   "outputs": [],
   "source": []
  },
  {
   "cell_type": "code",
   "execution_count": null,
   "metadata": {
    "collapsed": true
   },
   "outputs": [],
   "source": []
  },
  {
   "cell_type": "code",
   "execution_count": null,
   "metadata": {
    "collapsed": true
   },
   "outputs": [],
   "source": []
  },
  {
   "cell_type": "code",
   "execution_count": null,
   "metadata": {
    "collapsed": true
   },
   "outputs": [],
   "source": []
  },
  {
   "cell_type": "code",
   "execution_count": null,
   "metadata": {
    "collapsed": true
   },
   "outputs": [],
   "source": []
  },
  {
   "cell_type": "code",
   "execution_count": null,
   "metadata": {
    "collapsed": true
   },
   "outputs": [],
   "source": []
  },
  {
   "cell_type": "code",
   "execution_count": null,
   "metadata": {
    "collapsed": true
   },
   "outputs": [],
   "source": []
  },
  {
   "cell_type": "code",
   "execution_count": null,
   "metadata": {
    "collapsed": true
   },
   "outputs": [],
   "source": []
  },
  {
   "cell_type": "code",
   "execution_count": null,
   "metadata": {
    "collapsed": true
   },
   "outputs": [],
   "source": []
  },
  {
   "cell_type": "code",
   "execution_count": null,
   "metadata": {
    "collapsed": true
   },
   "outputs": [],
   "source": []
  },
  {
   "cell_type": "code",
   "execution_count": null,
   "metadata": {
    "collapsed": true
   },
   "outputs": [],
   "source": []
  },
  {
   "cell_type": "code",
   "execution_count": null,
   "metadata": {
    "collapsed": true
   },
   "outputs": [],
   "source": []
  },
  {
   "cell_type": "code",
   "execution_count": null,
   "metadata": {
    "collapsed": true
   },
   "outputs": [],
   "source": []
  },
  {
   "cell_type": "code",
   "execution_count": null,
   "metadata": {
    "collapsed": true
   },
   "outputs": [],
   "source": []
  },
  {
   "cell_type": "code",
   "execution_count": null,
   "metadata": {
    "collapsed": true
   },
   "outputs": [],
   "source": []
  },
  {
   "cell_type": "code",
   "execution_count": null,
   "metadata": {
    "collapsed": true
   },
   "outputs": [],
   "source": []
  },
  {
   "cell_type": "code",
   "execution_count": null,
   "metadata": {
    "collapsed": true
   },
   "outputs": [],
   "source": []
  },
  {
   "cell_type": "code",
   "execution_count": null,
   "metadata": {
    "collapsed": true
   },
   "outputs": [],
   "source": []
  },
  {
   "cell_type": "code",
   "execution_count": null,
   "metadata": {
    "collapsed": true
   },
   "outputs": [],
   "source": []
  },
  {
   "cell_type": "code",
   "execution_count": null,
   "metadata": {
    "collapsed": true
   },
   "outputs": [],
   "source": []
  },
  {
   "cell_type": "code",
   "execution_count": null,
   "metadata": {
    "collapsed": true
   },
   "outputs": [],
   "source": []
  }
 ],
 "metadata": {
  "kernelspec": {
   "display_name": "Python 3",
   "language": "python",
   "name": "python3"
  },
  "language_info": {
   "codemirror_mode": {
    "name": "ipython",
    "version": 3
   },
   "file_extension": ".py",
   "mimetype": "text/x-python",
   "name": "python",
   "nbconvert_exporter": "python",
   "pygments_lexer": "ipython3",
   "version": "3.6.0"
  }
 },
 "nbformat": 4,
 "nbformat_minor": 2
}
